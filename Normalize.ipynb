{
 "cells": [
  {
   "cell_type": "code",
   "execution_count": 1,
   "metadata": {},
   "outputs": [],
   "source": [
    "import pandas as pd\n",
    "import numpy as np\n",
    "from sklearn import preprocessing\n",
    "import matplotlib\n",
    "%matplotlib inline"
   ]
  },
  {
   "cell_type": "code",
   "execution_count": null,
   "metadata": {},
   "outputs": [],
   "source": [
    "df1 = pd.read_csv('data/vina_scalar.csv', index_col=False)\n",
    "df2 = pd.read_csv('data/pedro_scalar.csv', index_col=False)\n",
    "df3 = pd.read_csv('data/joao_scalar.csv', index_col=False)\n",
    "df4 = pd.read_csv(\"data/variables_cleaned.csv\", index_col=False)"
   ]
  },
  {
   "cell_type": "code",
   "execution_count": null,
   "metadata": {},
   "outputs": [],
   "source": [
    "data = pd.merge(df1, df2, left_on='id', right_on='id')\n",
    "data = pd.merge(data, df3, left_on='id', right_on='id')\n",
    "data = pd.merge(data, df4, left_on='id', right_on='id')\n",
    "data.head()"
   ]
  },
  {
   "cell_type": "code",
   "execution_count": null,
   "metadata": {},
   "outputs": [],
   "source": [
    "data = data.drop(columns='id')\n",
    "matrix = data.values\n",
    "y = np.copy(matrix[:,0])\n",
    "scalar = np.copy(matrix[:,1:len(df1.columns)+len(df2.columns)+len(df3.columns)-3])\n",
    "catg = np.copy(matrix[:,len(df1.columns)+len(df2.columns)+len(df3.columns)-3:])\n",
    "pd.DataFrame(scalar).head()"
   ]
  },
  {
   "cell_type": "code",
   "execution_count": null,
   "metadata": {},
   "outputs": [],
   "source": [
    "scalarray = preprocessing.MinMaxScaler().fit_transform(scalar)\n",
    "pd.DataFrame(scalarray).head()"
   ]
  },
  {
   "cell_type": "code",
   "execution_count": null,
   "metadata": {},
   "outputs": [],
   "source": [
    "c = []\n",
    "for i in range(catg.shape[1]):\n",
    "    m = (catg[:,i]).astype(int)\n",
    "    n = np.zeros((len(catg), np.max(m)+1))\n",
    "    n[np.arange(len(catg)), m] = 1\n",
    "    c.append(n)\n",
    "trix = c[0]\n",
    "for i in range(1,len(c)):\n",
    "    trix = np.concatenate((trix, c[i]), axis=1)\n",
    "trix[0]"
   ]
  },
  {
   "cell_type": "code",
   "execution_count": null,
   "metadata": {},
   "outputs": [],
   "source": [
    "x = np.concatenate((scalarray, trix), axis=1)\n",
    "x[0,:]"
   ]
  },
  {
   "cell_type": "code",
   "execution_count": null,
   "metadata": {},
   "outputs": [],
   "source": [
    "x.shape"
   ]
  },
  {
   "cell_type": "code",
   "execution_count": null,
   "metadata": {},
   "outputs": [],
   "source": [
    "np.save('data/x.npy', x)\n",
    "np.save('data/y.npy', y)"
   ]
  }
 ],
 "metadata": {
  "kernelspec": {
   "display_name": "Python 3",
   "language": "python",
   "name": "python3"
  },
  "language_info": {
   "codemirror_mode": {
    "name": "ipython",
    "version": 3
   },
   "file_extension": ".py",
   "mimetype": "text/x-python",
   "name": "python",
   "nbconvert_exporter": "python",
   "pygments_lexer": "ipython3",
   "version": "3.6.6"
  }
 },
 "nbformat": 4,
 "nbformat_minor": 2
}
