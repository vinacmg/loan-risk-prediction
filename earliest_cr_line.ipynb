{
 "cells": [
  {
   "cell_type": "code",
   "execution_count": 1,
   "metadata": {},
   "outputs": [],
   "source": [
    "import pandas as pd\n",
    "import numpy as np"
   ]
  },
  {
   "cell_type": "code",
   "execution_count": 2,
   "metadata": {},
   "outputs": [
    {
     "name": "stderr",
     "output_type": "stream",
     "text": [
      "/home/vina/.conda/envs/sistemas_inteligentes/lib/python3.6/site-packages/IPython/core/interactiveshell.py:3018: DtypeWarning: Columns (30) have mixed types. Specify dtype option on import or set low_memory=False.\n",
      "  interactivity=interactivity, compiler=compiler, result=result)\n"
     ]
    }
   ],
   "source": [
    "df = pd.read_csv('data/variables.csv')"
   ]
  },
  {
   "cell_type": "markdown",
   "metadata": {},
   "source": [
    "### earliest_cr_line to years since earliest credit line (compared with 2018)"
   ]
  },
  {
   "cell_type": "code",
   "execution_count": 3,
   "metadata": {
    "scrolled": true
   },
   "outputs": [
    {
     "data": {
      "text/plain": [
       "array([33, 19, 17, 22, 14, 11, 20, 29, 15, 27, 25, 21, 35, 16, 34, 12, 31,\n",
       "       37, 13, 18, 24, 23, 26, 32, 28, 30, 38, 10, 39, 40, 47, 46, 48, 49,\n",
       "       43, 36, 42, 41, 56, 45, 50, 44, 51, 53, 55, 64, 52, 54, 59, 62, 72,\n",
       "       68, 57,  0,  8,  9, 58, 63, 61, 60,  7, 70,  6])"
      ]
     },
     "execution_count": 3,
     "metadata": {},
     "output_type": "execute_result"
    }
   ],
   "source": [
    "earliest_cr_line = df['earliest_cr_line'].tolist()\n",
    "#[date[-4:] for date in earliest_cr_line]\n",
    "year = []\n",
    "for i in range(len(earliest_cr_line)):\n",
    "    year.append(str(earliest_cr_line[i])[-4:])\n",
    "for i in range(len(year)):\n",
    "    try:\n",
    "        year[i] = 2018 - int(year[i])\n",
    "    except:\n",
    "        year[i] = 0    \n",
    "df['earliest_cr_line'] = year\n",
    "df['earliest_cr_line'].unique()"
   ]
  },
  {
   "cell_type": "code",
   "execution_count": 5,
   "metadata": {},
   "outputs": [],
   "source": [
    "df.to_csv('data/earliest_cr_line.csv')"
   ]
  }
 ],
 "metadata": {
  "kernelspec": {
   "display_name": "Python 3",
   "language": "python",
   "name": "python3"
  },
  "language_info": {
   "codemirror_mode": {
    "name": "ipython",
    "version": 3
   },
   "file_extension": ".py",
   "mimetype": "text/x-python",
   "name": "python",
   "nbconvert_exporter": "python",
   "pygments_lexer": "ipython3",
   "version": "3.6.6"
  }
 },
 "nbformat": 4,
 "nbformat_minor": 2
}
