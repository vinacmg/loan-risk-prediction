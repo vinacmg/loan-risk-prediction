{
 "cells": [
  {
   "cell_type": "code",
   "execution_count": 12,
   "metadata": {},
   "outputs": [],
   "source": [
    "import pandas as pd\n",
    "import numpy as np"
   ]
  },
  {
   "cell_type": "code",
   "execution_count": 13,
   "metadata": {},
   "outputs": [],
   "source": [
    "variables = pd.read_csv(\"data/variables.csv\")"
   ]
  },
  {
   "cell_type": "code",
   "execution_count": 14,
   "metadata": {},
   "outputs": [],
   "source": [
    "columns = [\"initial_list_status\", \"term\", \"grade\", \"sub_grade\", \"home_ownership\", \"verification_status\", \"purpose\"]"
   ]
  },
  {
   "cell_type": "code",
   "execution_count": 15,
   "metadata": {},
   "outputs": [],
   "source": [
    "def prepare_data():\n",
    "    for column in columns:\n",
    "        old_values = []\n",
    "        new_values = []\n",
    "        new_value = 0;\n",
    "        for value in variables[column].unique():\n",
    "            old_values.append(value)\n",
    "            new_values.append(new_value)\n",
    "            \n",
    "            variables[column] = variables[column].replace(value, new_value)\n",
    "            new_value += 1\n",
    "        dictionary = pd.DataFrame({'old_values':old_values, 'new_values':new_values})\n",
    "        dictionary.to_csv(\"data/dictionaries/\" + column + \".csv\")"
   ]
  },
  {
   "cell_type": "code",
   "execution_count": 16,
   "metadata": {
    "scrolled": true
   },
   "outputs": [],
   "source": [
    "prepare_data()\n",
    "columns = [\"id\"] + columns\n",
    "new_variables = variables[columns]"
   ]
  },
  {
   "cell_type": "markdown",
   "metadata": {},
   "source": [
    "#### Tratando outlier de home_ownership"
   ]
  },
  {
   "cell_type": "code",
   "execution_count": 19,
   "metadata": {},
   "outputs": [
    {
     "name": "stderr",
     "output_type": "stream",
     "text": [
      "c:\\users\\pedro henrique mota\\docume~1\\unesp\\ia\\lib\\site-packages\\pandas\\core\\indexing.py:543: SettingWithCopyWarning: \n",
      "A value is trying to be set on a copy of a slice from a DataFrame.\n",
      "Try using .loc[row_indexer,col_indexer] = value instead\n",
      "\n",
      "See the caveats in the documentation: http://pandas.pydata.org/pandas-docs/stable/indexing.html#indexing-view-versus-copy\n",
      "  self.obj[item] = s\n"
     ]
    },
    {
     "data": {
      "text/plain": [
       "2.0    126598\n",
       "0.0    107831\n",
       "1.0     22282\n",
       "Name: home_ownership, dtype: int64"
      ]
     },
     "execution_count": 19,
     "metadata": {},
     "output_type": "execute_result"
    }
   ],
   "source": [
    "test = ((new_variables[\"home_ownership\"] == 3) | (new_variables[\"home_ownership\"] == 4) | (new_variables[\"home_ownership\"] == 5))\n",
    "new_variables.loc[test, \"home_ownership\"] = np.nan\n",
    "new_variables[\"home_ownership\"].value_counts()"
   ]
  },
  {
   "cell_type": "code",
   "execution_count": 20,
   "metadata": {},
   "outputs": [],
   "source": [
    "new_variables.to_csv(\"data/variables_cleaned.csv\")"
   ]
  }
 ],
 "metadata": {
  "kernelspec": {
   "display_name": "Python 3",
   "language": "python",
   "name": "python3"
  },
  "language_info": {
   "codemirror_mode": {
    "name": "ipython",
    "version": 3
   },
   "file_extension": ".py",
   "mimetype": "text/x-python",
   "name": "python",
   "nbconvert_exporter": "python",
   "pygments_lexer": "ipython3",
   "version": "3.7.1"
  }
 },
 "nbformat": 4,
 "nbformat_minor": 2
}
